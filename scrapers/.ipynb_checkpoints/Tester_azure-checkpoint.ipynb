{
 "cells": [
  {
   "cell_type": "markdown",
   "id": "western-radar",
   "metadata": {},
   "source": [
    "## Basic introduction to pyodbc & working with the azure sql database"
   ]
  },
  {
   "cell_type": "code",
   "execution_count": 24,
   "id": "golden-breast",
   "metadata": {},
   "outputs": [],
   "source": [
    "import pyodbc\n",
    "import myPrivates"
   ]
  },
  {
   "cell_type": "code",
   "execution_count": 15,
   "id": "fifth-minority",
   "metadata": {
    "scrolled": false
   },
   "outputs": [],
   "source": [
    "server = myPrivates.server\n",
    "database = myPrivates.dbName\n",
    "username = myPrivates.user\n",
    "password = myPrivates.password\n",
    "#open connection with sql server\n",
    "cnxn = pyodbc.connect('DRIVER={SQL Server};SERVER='+server+';DATABASE='+database+';UID='+username+';PWD='+password)\n",
    "#making cursor easier to access \n",
    "cursor = cnxn.cursor()"
   ]
  },
  {
   "cell_type": "markdown",
   "id": "aggregate-poverty",
   "metadata": {},
   "source": [
    "Below creates a table executable for the cursor using an sql query string"
   ]
  },
  {
   "cell_type": "code",
   "execution_count": 6,
   "id": "chief-adobe",
   "metadata": {},
   "outputs": [
    {
     "data": {
      "text/plain": [
       "<pyodbc.Cursor at 0x1c14db5c3b0>"
      ]
     },
     "execution_count": 6,
     "metadata": {},
     "output_type": "execute_result"
    }
   ],
   "source": [
    "cursor.execute('''\n",
    " CREATE TABLE PeopleInfo (\n",
    "        PersonId INTEGER PRIMARY KEY,\n",
    "        FirstName TEXT NOT NULL,\n",
    "        LastName  TEXT NOT NULL,\n",
    "        Age INTEGER NULL,\n",
    ");\n",
    "''')"
   ]
  },
  {
   "cell_type": "markdown",
   "id": "downtown-breath",
   "metadata": {},
   "source": [
    "For the changes to take effect the cursor executable must be commited to the connection"
   ]
  },
  {
   "cell_type": "code",
   "execution_count": 7,
   "id": "loved-banner",
   "metadata": {},
   "outputs": [],
   "source": [
    "cnxn.commit()"
   ]
  },
  {
   "cell_type": "markdown",
   "id": "convenient-diploma",
   "metadata": {},
   "source": [
    "Insert values to the table to test "
   ]
  },
  {
   "cell_type": "code",
   "execution_count": 19,
   "id": "informational-capability",
   "metadata": {},
   "outputs": [
    {
     "data": {
      "text/plain": [
       "<pyodbc.Cursor at 0x1c14ded8a30>"
      ]
     },
     "execution_count": 19,
     "metadata": {},
     "output_type": "execute_result"
    }
   ],
   "source": [
    "cursor.execute('''\n",
    "                INSERT INTO PeopleInfo (PersonId, FirstName, LastName, Age)\n",
    "                VALUES\n",
    "                (1,'Bob','Smith', 55),\n",
    "                (2, 'Jenny','Smith', 66)\n",
    "                ''')"
   ]
  },
  {
   "cell_type": "markdown",
   "id": "spare-antique",
   "metadata": {},
   "source": [
    "commit insertions "
   ]
  },
  {
   "cell_type": "code",
   "execution_count": 20,
   "id": "generic-waters",
   "metadata": {},
   "outputs": [],
   "source": [
    "cnxn.commit()"
   ]
  },
  {
   "cell_type": "markdown",
   "id": "derived-basis",
   "metadata": {},
   "source": [
    "Make a request query to execute to the cursor"
   ]
  },
  {
   "cell_type": "code",
   "execution_count": 21,
   "id": "broad-handbook",
   "metadata": {},
   "outputs": [
    {
     "data": {
      "text/plain": [
       "<pyodbc.Cursor at 0x1c14ded8a30>"
      ]
     },
     "execution_count": 21,
     "metadata": {},
     "output_type": "execute_result"
    }
   ],
   "source": [
    "cursor.execute('SELECT * FROM PeopleInfo')"
   ]
  },
  {
   "cell_type": "markdown",
   "id": "manual-clock",
   "metadata": {},
   "source": [
    "The cursor then holds the result of the query and must be looped through to print the data gathered"
   ]
  },
  {
   "cell_type": "code",
   "execution_count": 22,
   "id": "peaceful-thousand",
   "metadata": {},
   "outputs": [
    {
     "name": "stdout",
     "output_type": "stream",
     "text": [
      "(1, 'Bob', 'Smith', 55)\n",
      "(2, 'Jenny', 'Smith', 66)\n"
     ]
    }
   ],
   "source": [
    "for row in cursor:\n",
    "    print(row)"
   ]
  },
  {
   "cell_type": "markdown",
   "id": "brilliant-registrar",
   "metadata": {},
   "source": [
    "Close the connection once it is not in use"
   ]
  },
  {
   "cell_type": "code",
   "execution_count": 23,
   "id": "noticed-scottish",
   "metadata": {},
   "outputs": [],
   "source": [
    "cnxn.close()"
   ]
  }
 ],
 "metadata": {
  "kernelspec": {
   "display_name": "Python 3",
   "language": "python",
   "name": "python3"
  },
  "language_info": {
   "codemirror_mode": {
    "name": "ipython",
    "version": 3
   },
   "file_extension": ".py",
   "mimetype": "text/x-python",
   "name": "python",
   "nbconvert_exporter": "python",
   "pygments_lexer": "ipython3",
   "version": "3.7.9"
  }
 },
 "nbformat": 4,
 "nbformat_minor": 5
}
