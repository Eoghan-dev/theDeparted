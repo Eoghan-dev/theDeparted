{
 "cells": [
  {
   "cell_type": "code",
   "execution_count": 52,
   "id": "68e3ebc7",
   "metadata": {},
   "outputs": [],
   "source": [
    "import requests\n",
    "from pprint import pprint\n",
    "import pyodbc\n",
    "from datetime import datetime"
   ]
  },
  {
   "cell_type": "code",
   "execution_count": 31,
   "id": "1aaf3214",
   "metadata": {},
   "outputs": [
    {
     "ename": "NameError",
     "evalue": "name 'myPrivates' is not defined",
     "output_type": "error",
     "traceback": [
      "\u001b[1;31m---------------------------------------------------------------------------\u001b[0m",
      "\u001b[1;31mNameError\u001b[0m                                 Traceback (most recent call last)",
      "\u001b[1;32m<ipython-input-31-d628e37135a3>\u001b[0m in \u001b[0;36m<module>\u001b[1;34m\u001b[0m\n\u001b[1;32m----> 1\u001b[1;33m \u001b[0mserver\u001b[0m \u001b[1;33m=\u001b[0m \u001b[0mmyPrivates\u001b[0m\u001b[1;33m.\u001b[0m\u001b[0mserver\u001b[0m\u001b[1;33m\u001b[0m\u001b[1;33m\u001b[0m\u001b[0m\n\u001b[0m\u001b[0;32m      2\u001b[0m \u001b[0mdatabase\u001b[0m \u001b[1;33m=\u001b[0m \u001b[0mmyPrivates\u001b[0m\u001b[1;33m.\u001b[0m\u001b[0mdbName\u001b[0m\u001b[1;33m\u001b[0m\u001b[1;33m\u001b[0m\u001b[0m\n\u001b[0;32m      3\u001b[0m \u001b[0musername\u001b[0m \u001b[1;33m=\u001b[0m \u001b[0mmyPrivates\u001b[0m\u001b[1;33m.\u001b[0m\u001b[0muser\u001b[0m\u001b[1;33m\u001b[0m\u001b[1;33m\u001b[0m\u001b[0m\n\u001b[0;32m      4\u001b[0m \u001b[0mpassword\u001b[0m \u001b[1;33m=\u001b[0m \u001b[0mmyPrivates\u001b[0m\u001b[1;33m.\u001b[0m\u001b[0mpassword\u001b[0m\u001b[1;33m\u001b[0m\u001b[1;33m\u001b[0m\u001b[0m\n\u001b[0;32m      5\u001b[0m \u001b[1;31m#open connection with sql server\u001b[0m\u001b[1;33m\u001b[0m\u001b[1;33m\u001b[0m\u001b[1;33m\u001b[0m\u001b[0m\n",
      "\u001b[1;31mNameError\u001b[0m: name 'myPrivates' is not defined"
     ]
    }
   ],
   "source": [
    "server = myPrivates.server\n",
    "database = myPrivates.dbName\n",
    "username = myPrivates.user\n",
    "password = myPrivates.password\n",
    "#open connection with sql server\n",
    "cnxn = pyodbc.connect('DRIVER={SQL Server};SERVER='+server+';DATABASE='+database+';UID='+username+';PWD='+password)\n",
    "#making cursor easier to access \n",
    "cursor = cnxn.cursor()"
   ]
  },
  {
   "cell_type": "code",
   "execution_count": 12,
   "id": "38e6a3d7",
   "metadata": {},
   "outputs": [],
   "source": [
    "'''\n",
    "from sqlalchemy.engine import URL\n",
    "connection_string = \"DRIVER={ODBC+Driver+17+for+SQL+Server};SERVER=tcp:thedeparted.database.windows.net;DATABASE=the_departed;UID=team_5_the_departed;PWD=Spe@kFr1endAndEnter\"\n",
    "connection_url = URL.create(\"mssql+pyodbc\", query={\"odbc_connect\": connection_string})\n",
    "engine=create_engine(connection_url)\n",
    "'''"
   ]
  },
  {
   "cell_type": "code",
   "execution_count": 4,
   "id": "389ed813",
   "metadata": {},
   "outputs": [],
   "source": [
    "def get_weather(latitude, longitude):\n",
    "    \"\"\"Function to return a current weather response from openweather for a given set of co-ordinates\"\"\"\n",
    "    weather_key = \"7ac118753938be7d1540e9f996c5aab4\"\n",
    "    weather_by_coordinates = 'http://api.openweathermap.org/data/2.5/weather'\n",
    "    r = requests.get(weather_by_coordinates,params={\"APPID\":weather_key, \"lat\":latitude, \"lon\":longitude })\n",
    "    return r.json()"
   ]
  },
  {
   "cell_type": "code",
   "execution_count": 81,
   "id": "3d09effd",
   "metadata": {},
   "outputs": [],
   "source": [
    "def store_weather(cursor, connection):\n",
    "    \"\"\"\n",
    "    Function to store weather dat in our database.\n",
    "    Co-ordinates are hard-coded as the same co-ordinates as our historic weather data in the city centre\n",
    "    Modified from weather scraper in previous project ()\n",
    "    \"\"\"\n",
    "    position_lat = '53.349805'\n",
    "    position_long = '-6.26031'\n",
    "    # This calls our function to make the api call\n",
    "    weather_json = get_weather(position_lat, position_long)\n",
    "    \n",
    "    weather_id=weather_json['weather'][0]['id']\n",
    "    main=weather_json['weather'][0]['main']\n",
    "    description=weather_json['weather'][0]['description']\n",
    "    icon=weather_json['weather'][0]['icon']\n",
    "    icon_url='http://openweathermap.org/img/wn/{}@2x.png'.format(icon)\n",
    "    \n",
    "    base=weather_json['base']\n",
    "    temp=weather_json['main']['temp']\n",
    "    feels_like=weather_json['main']['feels_like']\n",
    "    temp_min=weather_json['main']['temp_min']\n",
    "    temp_max=weather_json['main']['temp_max']\n",
    "    pressure=weather_json['main']['pressure']\n",
    "    humidity=weather_json['main']['humidity']\n",
    "    visibility=weather_json['visibility']\n",
    "    \n",
    "    wind_speed=weather_json['wind']['speed']\n",
    "    wind_degree=weather_json['wind']['deg']\n",
    "    \n",
    "    clouds_all=weather_json['clouds']['all']\n",
    "    \n",
    "    datetime=weather_json['dt']\n",
    "    sys_type=weather_json['sys']['type']\n",
    "    sys_country=weather_json['sys']['country']\n",
    "    sys_id=weather_json['sys']['id']\n",
    "    sys_sunrise=weather_json['sys']['sunrise']\n",
    "    sys_sunset=weather_json['sys']['sunset']\n",
    "    \n",
    "    timezone=weather_json['timezone']\n",
    "    id_var=weather_json['id']\n",
    "    name=weather_json['name']\n",
    "    cod=weather_json['cod']\n",
    "    \n",
    "    # Write an sql command to insert all this data into the current_weather table\n",
    "    weather_insert='''\n",
    "                    INSERT INTO the_current_weather (datetime,\n",
    "                                position_long,\n",
    "                                position_lat,\n",
    "                                weather_id,\n",
    "                                main,\n",
    "                                description,\n",
    "                                icon,\n",
    "                                icon_url,\n",
    "                                base,\n",
    "                                temp,\n",
    "                                feels_like,\n",
    "                                temp_min,\n",
    "                                temp_max,\n",
    "                                pressure,\n",
    "                                humidity,\n",
    "                                visibility,\n",
    "                                wind_speed,\n",
    "                                wind_degree,\n",
    "                                clouds_all,\n",
    "                                sys_type,\n",
    "                                sys_id,\n",
    "                                sys_country,\n",
    "                                sys_sunrise,\n",
    "                                sys_sunset,\n",
    "                                timezone,\n",
    "                                id,\n",
    "                                name,\n",
    "                                cod)\n",
    "                        VALUES\n",
    "                        ({}, {}, {}, {}, {}, {}, {}, {}, {},\n",
    "                         {}, {}, {}, {}, {}, {}, {}, {}, {}, \n",
    "                         {}, {}, {}, {}, {}, {}, {}, {}, {}, \n",
    "                         {})'''.format(datetime\n",
    "                                ,position_long\n",
    "                                ,position_lat\n",
    "                                ,weather_id\n",
    "                                ,main\n",
    "                                ,description\n",
    "                                ,icon\n",
    "                                ,icon_url\n",
    "                                ,base\n",
    "                                ,temp\n",
    "                                ,feels_like\n",
    "                                ,temp_min\n",
    "                                ,temp_max\n",
    "                                ,pressure\n",
    "                                ,humidity\n",
    "                                ,visibility\n",
    "                                ,wind_speed\n",
    "                                ,wind_degree\n",
    "                                ,clouds_all\n",
    "                                ,sys_type\n",
    "                                ,sys_id\n",
    "                                ,sys_country\n",
    "                                ,sys_sunrise\n",
    "                                ,sys_sunset\n",
    "                                ,timezone\n",
    "                                ,id_var\n",
    "                                ,name\n",
    "                                ,cod)\n",
    "\n",
    "    print(weather_insert)\n",
    "    cursor.execute(weather_insert)\n",
    "    connection.commit()"
   ]
  },
  {
   "cell_type": "code",
   "execution_count": 56,
   "id": "4fe97a78",
   "metadata": {},
   "outputs": [],
   "source": [
    "db_schema = {\n",
    "    'the_current_weather':{\n",
    "        'dt': 'DATETIME'\n",
    "        ,'coord_lon': 'REAL'\n",
    "        ,'coord_lat': 'REAL'\n",
    "        ,'weather_id':'INTEGER'\n",
    "        ,'main':'VARCHAR(256)'\n",
    "        ,'weather_description':'VARCHAR(500)'\n",
    "        ,'weather_icon':'VARCHAR(20)'\n",
    "        ,'weather_icon_url':'VARCHAR(60)'\n",
    "        ,'base':'varchar(256)'\n",
    "        ,'main_temp':'REAL'\n",
    "        ,'main_feels_like':'REAL'\n",
    "        ,'main_temp_min':'REAL'\n",
    "        ,'main_temp_max':'REAL'\n",
    "        ,'main_pressure':'INT'\n",
    "        ,'main_humidity':'INT'\n",
    "        ,'visibility':'INT'\n",
    "        ,'wind_speed':'REAL'\n",
    "        ,'wind_deg':'INT'\n",
    "        ,'clouds_all':'INT'\n",
    "        ,'sys_type':'INT'\n",
    "        ,'sys_id':'INT'\n",
    "        ,'sys_country':'VARCHAR(10)'\n",
    "        ,'sys_sunrise':'BIGINT'\n",
    "        ,'sys_sunset':'BIGINT'\n",
    "        ,'timezone':'INT'\n",
    "        ,'id':'BIGINT'\n",
    "        ,'name':'VARCHAR(256)'\n",
    "        ,'cod':'INT'\n",
    "        }\n",
    "}"
   ]
  },
  {
   "cell_type": "code",
   "execution_count": 57,
   "id": "c92c2fe9",
   "metadata": {},
   "outputs": [],
   "source": [
    "def create_db_tables(engine, connection, db_schema):\n",
    "    \"\"\"Function to create tables in our database if they do not already exist\"\"\"\n",
    "    for table, columns in db_schema.items():\n",
    "        column_count = 0\n",
    "        #sql = \"\"\"CREATE TABLE IF NOT EXISTS {} (\\n\"\"\".format(table)\n",
    "        sql = \"\"\"if not exists (select * from sysobjects where name='the_current_weather' and xtype='U')\n",
    "        CREATE TABLE the_current_weather (\\n\"\"\"\n",
    "        \n",
    "        insert_row = ''\n",
    "        \n",
    "        for column_heading, data_type in columns.items():\n",
    "            if column_count > 0:\n",
    "                insert_row += \",\\n\\t {} {}\".format(column_heading, data_type)\n",
    "            else:\n",
    "                # Create an auto incremented id column as the very first column.\n",
    "                insert_row += \"\\t{} {}\".format(column_heading, data_type)\n",
    "                column_count += 1\n",
    "        sql += \"{})\".format(insert_row)\n",
    "        #print(sql)\n",
    "        engine.execute(sql)\n",
    "        connection.commit"
   ]
  },
  {
   "cell_type": "code",
   "execution_count": 58,
   "id": "9c7cda65",
   "metadata": {
    "scrolled": true
   },
   "outputs": [
    {
     "name": "stdout",
     "output_type": "stream",
     "text": [
      "if not exists (select * from sysobjects where name='the_current_weather' and xtype='U')\n",
      "        CREATE TABLE the_current_weather (\n",
      "\tdt DATETIME,\n",
      "\t coord_lon REAL,\n",
      "\t coord_lat REAL,\n",
      "\t weather_id INTEGER,\n",
      "\t main VARCHAR(256),\n",
      "\t weather_description VARCHAR(500),\n",
      "\t weather_icon VARCHAR(20),\n",
      "\t weather_icon_url VARCHAR(60),\n",
      "\t base varchar(256),\n",
      "\t main_temp REAL,\n",
      "\t main_feels_like REAL,\n",
      "\t main_temp_min REAL,\n",
      "\t main_temp_max REAL,\n",
      "\t main_pressure INT,\n",
      "\t main_humidity INT,\n",
      "\t visibility INT,\n",
      "\t wind_speed REAL,\n",
      "\t wind_deg INT,\n",
      "\t clouds_all INT,\n",
      "\t sys_type INT,\n",
      "\t sys_id INT,\n",
      "\t sys_country VARCHAR(10),\n",
      "\t sys_sunrise BIGINT,\n",
      "\t sys_sunset BIGINT,\n",
      "\t timezone INT,\n",
      "\t id BIGINT,\n",
      "\t name VARCHAR(256),\n",
      "\t cod INT)\n"
     ]
    }
   ],
   "source": [
    "create_db_tables(cursor, cnxn, db_schema)"
   ]
  },
  {
   "cell_type": "code",
   "execution_count": 82,
   "id": "a152a0fc",
   "metadata": {
    "scrolled": false
   },
   "outputs": [
    {
     "name": "stdout",
     "output_type": "stream",
     "text": [
      "\n",
      "                    INSERT INTO the_current_weather (datetime,\n",
      "                                position_long,\n",
      "                                position_lat,\n",
      "                                weather_id,\n",
      "                                main,\n",
      "                                description,\n",
      "                                icon,\n",
      "                                icon_url,\n",
      "                                base,\n",
      "                                temp,\n",
      "                                feels_like,\n",
      "                                temp_min,\n",
      "                                temp_max,\n",
      "                                pressure,\n",
      "                                humidity,\n",
      "                                visibility,\n",
      "                                wind_speed,\n",
      "                                wind_degree,\n",
      "                                clouds_all,\n",
      "                                sys_type,\n",
      "                                sys_id,\n",
      "                                sys_country,\n",
      "                                sys_sunrise,\n",
      "                                sys_sunset,\n",
      "                                timezone,\n",
      "                                id,\n",
      "                                name,\n",
      "                                cod)\n",
      "                        VALUES\n",
      "                        (1624107918, -6.26031, 53.349805, 803, Clouds, broken clouds, 04d, http://openweathermap.org/img/wn/04d@2x.png, stations,\n",
      "                         288.89, 288.19, 286.98, 291.86, 1012, 64, 10000, 4.47, 165, \n",
      "                         75, 2, 2036125, IE, 1624074983, 1624136186, 3600, 2962486, Mountjoy, \n",
      "                         200)\n"
     ]
    },
    {
     "ename": "ProgrammingError",
     "evalue": "('42000', \"[42000] [Microsoft][ODBC SQL Server Driver][SQL Server]Incorrect syntax near 'clouds'. (102) (SQLExecDirectW)\")",
     "output_type": "error",
     "traceback": [
      "\u001b[1;31m---------------------------------------------------------------------------\u001b[0m",
      "\u001b[1;31mProgrammingError\u001b[0m                          Traceback (most recent call last)",
      "\u001b[1;32m<ipython-input-82-855c183c6182>\u001b[0m in \u001b[0;36m<module>\u001b[1;34m\u001b[0m\n\u001b[1;32m----> 1\u001b[1;33m \u001b[0mstore_weather\u001b[0m\u001b[1;33m(\u001b[0m\u001b[0mcursor\u001b[0m\u001b[1;33m,\u001b[0m \u001b[0mcnxn\u001b[0m\u001b[1;33m)\u001b[0m\u001b[1;33m\u001b[0m\u001b[1;33m\u001b[0m\u001b[0m\n\u001b[0m",
      "\u001b[1;32m<ipython-input-81-08d269c78e7e>\u001b[0m in \u001b[0;36mstore_weather\u001b[1;34m(cursor, connection)\u001b[0m\n\u001b[0;32m    106\u001b[0m \u001b[1;33m\u001b[0m\u001b[0m\n\u001b[0;32m    107\u001b[0m     \u001b[0mprint\u001b[0m\u001b[1;33m(\u001b[0m\u001b[0mweather_insert\u001b[0m\u001b[1;33m)\u001b[0m\u001b[1;33m\u001b[0m\u001b[1;33m\u001b[0m\u001b[0m\n\u001b[1;32m--> 108\u001b[1;33m     \u001b[0mcursor\u001b[0m\u001b[1;33m.\u001b[0m\u001b[0mexecute\u001b[0m\u001b[1;33m(\u001b[0m\u001b[0mweather_insert\u001b[0m\u001b[1;33m)\u001b[0m\u001b[1;33m\u001b[0m\u001b[1;33m\u001b[0m\u001b[0m\n\u001b[0m\u001b[0;32m    109\u001b[0m     \u001b[0mconnection\u001b[0m\u001b[1;33m.\u001b[0m\u001b[0mcommit\u001b[0m\u001b[1;33m(\u001b[0m\u001b[1;33m)\u001b[0m\u001b[1;33m\u001b[0m\u001b[1;33m\u001b[0m\u001b[0m\n",
      "\u001b[1;31mProgrammingError\u001b[0m: ('42000', \"[42000] [Microsoft][ODBC SQL Server Driver][SQL Server]Incorrect syntax near 'clouds'. (102) (SQLExecDirectW)\")"
     ]
    }
   ],
   "source": [
    "store_weather(cursor, cnxn)"
   ]
  },
  {
   "cell_type": "code",
   "execution_count": 26,
   "id": "1db2c90a",
   "metadata": {
    "scrolled": false
   },
   "outputs": [
    {
     "name": "stdout",
     "output_type": "stream",
     "text": [
      "{'base': 'stations',\n",
      " 'clouds': {'all': 75},\n",
      " 'cod': 200,\n",
      " 'coord': {'lat': 53.3498, 'lon': -6.2603},\n",
      " 'dt': 1624100835,\n",
      " 'id': 2962486,\n",
      " 'main': {'feels_like': 287.52,\n",
      "          'humidity': 63,\n",
      "          'pressure': 1013,\n",
      "          'temp': 288.3,\n",
      "          'temp_max': 290.2,\n",
      "          'temp_min': 286.98},\n",
      " 'name': 'Mountjoy',\n",
      " 'sys': {'country': 'IE',\n",
      "         'id': 2037117,\n",
      "         'sunrise': 1624074983,\n",
      "         'sunset': 1624136186,\n",
      "         'type': 2},\n",
      " 'timezone': 3600,\n",
      " 'visibility': 10000,\n",
      " 'weather': [{'description': 'broken clouds',\n",
      "              'icon': '04d',\n",
      "              'id': 803,\n",
      "              'main': 'Clouds'}],\n",
      " 'wind': {'deg': 68, 'gust': 6.71, 'speed': 3.13}}\n"
     ]
    }
   ],
   "source": [
    "# Get an API response for the same co-ordinates as our historic weather data\n",
    "DublinWeather = get_weather('53.349805', '-6.26031')\n",
    "pprint(DublinWeather)"
   ]
  },
  {
   "cell_type": "code",
   "execution_count": 65,
   "id": "ad50e4b4",
   "metadata": {},
   "outputs": [],
   "source": [
    "cursor.execute('SELECT * FROM the_current_weather')\n",
    "\n",
    "for row in cursor:\n",
    "    print(row)"
   ]
  },
  {
   "cell_type": "code",
   "execution_count": null,
   "id": "aa85d4c7",
   "metadata": {},
   "outputs": [],
   "source": []
  }
 ],
 "metadata": {
  "kernelspec": {
   "display_name": "Python 3",
   "language": "python",
   "name": "python3"
  },
  "language_info": {
   "codemirror_mode": {
    "name": "ipython",
    "version": 3
   },
   "file_extension": ".py",
   "mimetype": "text/x-python",
   "name": "python",
   "nbconvert_exporter": "python",
   "pygments_lexer": "ipython3",
   "version": "3.9.5"
  }
 },
 "nbformat": 4,
 "nbformat_minor": 5
}
